{
 "cells": [
  {
   "cell_type": "code",
   "execution_count": 13,
   "id": "2cb7d01d",
   "metadata": {},
   "outputs": [
    {
     "data": {
      "text/html": [
       "<div>\n",
       "<style scoped>\n",
       "    .dataframe tbody tr th:only-of-type {\n",
       "        vertical-align: middle;\n",
       "    }\n",
       "\n",
       "    .dataframe tbody tr th {\n",
       "        vertical-align: top;\n",
       "    }\n",
       "\n",
       "    .dataframe thead th {\n",
       "        text-align: right;\n",
       "    }\n",
       "</style>\n",
       "<table border=\"1\" class=\"dataframe\">\n",
       "  <thead>\n",
       "    <tr style=\"text-align: right;\">\n",
       "      <th></th>\n",
       "      <th>title</th>\n",
       "      <th>content</th>\n",
       "      <th>score</th>\n",
       "    </tr>\n",
       "  </thead>\n",
       "  <tbody>\n",
       "    <tr>\n",
       "      <th>0</th>\n",
       "      <td>LSE accomodation for couples</td>\n",
       "      <td>Hi! \\n\\nI will be moving with my partner to Lo...</td>\n",
       "      <td>3</td>\n",
       "    </tr>\n",
       "    <tr>\n",
       "      <th>1</th>\n",
       "      <td>which accommodation do rich international stud...</td>\n",
       "      <td>where do rich students live during their studi...</td>\n",
       "      <td>0</td>\n",
       "    </tr>\n",
       "    <tr>\n",
       "      <th>2</th>\n",
       "      <td>Bankside or Garden Hall</td>\n",
       "      <td>Im a general course student and can't choose b...</td>\n",
       "      <td>2</td>\n",
       "    </tr>\n",
       "    <tr>\n",
       "      <th>3</th>\n",
       "      <td>Is the reserve list separate from an ordinary ...</td>\n",
       "      <td>I got placed on a reserve list for the Masters...</td>\n",
       "      <td>2</td>\n",
       "    </tr>\n",
       "    <tr>\n",
       "      <th>4</th>\n",
       "      <td>Postgraduate housing</td>\n",
       "      <td>Hello! I was just accepted into LSE for my mas...</td>\n",
       "      <td>2</td>\n",
       "    </tr>\n",
       "  </tbody>\n",
       "</table>\n",
       "</div>"
      ],
      "text/plain": [
       "                                               title  \\\n",
       "0                       LSE accomodation for couples   \n",
       "1  which accommodation do rich international stud...   \n",
       "2                            Bankside or Garden Hall   \n",
       "3  Is the reserve list separate from an ordinary ...   \n",
       "4                               Postgraduate housing   \n",
       "\n",
       "                                             content  score  \n",
       "0  Hi! \\n\\nI will be moving with my partner to Lo...      3  \n",
       "1  where do rich students live during their studi...      0  \n",
       "2  Im a general course student and can't choose b...      2  \n",
       "3  I got placed on a reserve list for the Masters...      2  \n",
       "4  Hello! I was just accepted into LSE for my mas...      2  "
      ]
     },
     "execution_count": 13,
     "metadata": {},
     "output_type": "execute_result"
    }
   ],
   "source": [
    "import pandas as pd\n",
    "\n",
    "df = pd.read_csv('data.csv')\n",
    "df.head()"
   ]
  },
  {
   "cell_type": "code",
   "execution_count": 9,
   "id": "fba77e17",
   "metadata": {},
   "outputs": [
    {
     "data": {
      "text/plain": [
       "(703, 3)"
      ]
     },
     "execution_count": 9,
     "metadata": {},
     "output_type": "execute_result"
    }
   ],
   "source": [
    "# remove empty values\n",
    "df.dropna(inplace = True)\n",
    "df.shape"
   ]
  },
  {
   "cell_type": "code",
   "execution_count": 15,
   "id": "44a68039",
   "metadata": {},
   "outputs": [
    {
     "data": {
      "text/plain": [
       "title      object\n",
       "content    object\n",
       "score       int64\n",
       "dtype: object"
      ]
     },
     "execution_count": 15,
     "metadata": {},
     "output_type": "execute_result"
    }
   ],
   "source": [
    "#check dataframe type\n",
    "df.dtypes"
   ]
  },
  {
   "cell_type": "code",
   "execution_count": 17,
   "id": "b5b44edd",
   "metadata": {},
   "outputs": [],
   "source": [
    "#make sure the title and content have the correct type\n",
    "df['title'] = df['title'].astype(str)\n",
    "df['content'] = df['content'].astype(str)"
   ]
  },
  {
   "cell_type": "code",
   "execution_count": 18,
   "id": "b7bb9ceb",
   "metadata": {},
   "outputs": [
    {
     "data": {
      "text/html": [
       "<div>\n",
       "<style scoped>\n",
       "    .dataframe tbody tr th:only-of-type {\n",
       "        vertical-align: middle;\n",
       "    }\n",
       "\n",
       "    .dataframe tbody tr th {\n",
       "        vertical-align: top;\n",
       "    }\n",
       "\n",
       "    .dataframe thead th {\n",
       "        text-align: right;\n",
       "    }\n",
       "</style>\n",
       "<table border=\"1\" class=\"dataframe\">\n",
       "  <thead>\n",
       "    <tr style=\"text-align: right;\">\n",
       "      <th></th>\n",
       "      <th>title</th>\n",
       "      <th>content</th>\n",
       "      <th>score</th>\n",
       "    </tr>\n",
       "  </thead>\n",
       "  <tbody>\n",
       "    <tr>\n",
       "      <th>0</th>\n",
       "      <td>LSE accomodation couples</td>\n",
       "      <td>Hi! moving partner London looking couples' acc...</td>\n",
       "      <td>3</td>\n",
       "    </tr>\n",
       "    <tr>\n",
       "      <th>1</th>\n",
       "      <td>accommodation rich international student stay in?</td>\n",
       "      <td>rich students live studies? Arabs, Chinese etc</td>\n",
       "      <td>0</td>\n",
       "    </tr>\n",
       "    <tr>\n",
       "      <th>2</th>\n",
       "      <td>Bankside Garden Hall</td>\n",
       "      <td>Im general course student can't choose two. ad...</td>\n",
       "      <td>2</td>\n",
       "    </tr>\n",
       "    <tr>\n",
       "      <th>3</th>\n",
       "      <td>reserve list separate ordinary waitlist?</td>\n",
       "      <td>got placed reserve list Masters environmental ...</td>\n",
       "      <td>2</td>\n",
       "    </tr>\n",
       "    <tr>\n",
       "      <th>4</th>\n",
       "      <td>Postgraduate housing</td>\n",
       "      <td>Hello! accepted LSE master's. wondering accomm...</td>\n",
       "      <td>2</td>\n",
       "    </tr>\n",
       "  </tbody>\n",
       "</table>\n",
       "</div>"
      ],
      "text/plain": [
       "                                               title  \\\n",
       "0                           LSE accomodation couples   \n",
       "1  accommodation rich international student stay in?   \n",
       "2                               Bankside Garden Hall   \n",
       "3           reserve list separate ordinary waitlist?   \n",
       "4                               Postgraduate housing   \n",
       "\n",
       "                                             content  score  \n",
       "0  Hi! moving partner London looking couples' acc...      3  \n",
       "1     rich students live studies? Arabs, Chinese etc      0  \n",
       "2  Im general course student can't choose two. ad...      2  \n",
       "3  got placed reserve list Masters environmental ...      2  \n",
       "4  Hello! accepted LSE master's. wondering accomm...      2  "
      ]
     },
     "execution_count": 18,
     "metadata": {},
     "output_type": "execute_result"
    }
   ],
   "source": [
    "# remove stopwords\n",
    "import nltk\n",
    "from nltk.corpus import stopwords\n",
    "sw = stopwords.words('English')\n",
    "\n",
    "stop_words = set(stopwords.words('english'))\n",
    "df['title'] = df['title'].apply(lambda x: ' '.join([word for word in x.split() if word.lower() not in stop_words]))\n",
    "df['content'] = df['content'].apply(lambda x: ' '.join([word for word in x.split() if word.lower() not in stop_words]))\n",
    "df.head()"
   ]
  },
  {
   "cell_type": "code",
   "execution_count": 20,
   "id": "7d23076b",
   "metadata": {},
   "outputs": [
    {
     "data": {
      "text/html": [
       "<div>\n",
       "<style scoped>\n",
       "    .dataframe tbody tr th:only-of-type {\n",
       "        vertical-align: middle;\n",
       "    }\n",
       "\n",
       "    .dataframe tbody tr th {\n",
       "        vertical-align: top;\n",
       "    }\n",
       "\n",
       "    .dataframe thead th {\n",
       "        text-align: right;\n",
       "    }\n",
       "</style>\n",
       "<table border=\"1\" class=\"dataframe\">\n",
       "  <thead>\n",
       "    <tr style=\"text-align: right;\">\n",
       "      <th></th>\n",
       "      <th>title</th>\n",
       "      <th>content</th>\n",
       "      <th>score</th>\n",
       "    </tr>\n",
       "  </thead>\n",
       "  <tbody>\n",
       "    <tr>\n",
       "      <th>0</th>\n",
       "      <td>LSE accomodation couples</td>\n",
       "      <td>Hi moving partner London looking couples accom...</td>\n",
       "      <td>3</td>\n",
       "    </tr>\n",
       "    <tr>\n",
       "      <th>1</th>\n",
       "      <td>accommodation rich international student stay in</td>\n",
       "      <td>rich students live studies Arabs Chinese etc</td>\n",
       "      <td>0</td>\n",
       "    </tr>\n",
       "    <tr>\n",
       "      <th>2</th>\n",
       "      <td>Bankside Garden Hall</td>\n",
       "      <td>Im general course student cant choose two advice</td>\n",
       "      <td>2</td>\n",
       "    </tr>\n",
       "    <tr>\n",
       "      <th>3</th>\n",
       "      <td>reserve list separate ordinary waitlist</td>\n",
       "      <td>got placed reserve list Masters environmental ...</td>\n",
       "      <td>2</td>\n",
       "    </tr>\n",
       "    <tr>\n",
       "      <th>4</th>\n",
       "      <td>Postgraduate housing</td>\n",
       "      <td>Hello accepted LSE masters wondering accommoda...</td>\n",
       "      <td>2</td>\n",
       "    </tr>\n",
       "  </tbody>\n",
       "</table>\n",
       "</div>"
      ],
      "text/plain": [
       "                                              title  \\\n",
       "0                          LSE accomodation couples   \n",
       "1  accommodation rich international student stay in   \n",
       "2                              Bankside Garden Hall   \n",
       "3           reserve list separate ordinary waitlist   \n",
       "4                              Postgraduate housing   \n",
       "\n",
       "                                             content  score  \n",
       "0  Hi moving partner London looking couples accom...      3  \n",
       "1       rich students live studies Arabs Chinese etc      0  \n",
       "2   Im general course student cant choose two advice      2  \n",
       "3  got placed reserve list Masters environmental ...      2  \n",
       "4  Hello accepted LSE masters wondering accommoda...      2  "
      ]
     },
     "execution_count": 20,
     "metadata": {},
     "output_type": "execute_result"
    }
   ],
   "source": [
    "# remove the puntuation \n",
    "import string \n",
    "\n",
    "def remove_punctuations(text):\n",
    "    if isinstance(text, str):\n",
    "        translator = str.maketrans('', '', string.punctuation)\n",
    "        return text.translate(translator)\n",
    "    else:\n",
    "        return text\n",
    "\n",
    "df = df.fillna('')\n",
    "df = df.applymap(remove_punctuations)\n",
    "df.head()"
   ]
  },
  {
   "cell_type": "code",
   "execution_count": 34,
   "id": "e35646f5",
   "metadata": {},
   "outputs": [
    {
     "name": "stdout",
     "output_type": "stream",
     "text": [
      "[('LSE', 216), ('MSc', 71), ('Economics', 36), ('student', 35), ('vs', 34), ('offer', 34), ('application', 32), ('Finance', 29), ('year', 29), ('accommodation', 28), ('Graduate', 28), ('students', 27), ('anyone', 27), ('Student', 24), ('International', 23), ('Summer', 21), ('Accommodation', 21), ('get', 20), ('BSc', 20), ('amp', 18), ('first', 18), ('Application', 17), ('undergrad', 17), ('lse', 17), ('Undergraduate', 17), ('apply', 16), ('Masters', 16), ('School', 16), ('Political', 15), ('Msc', 15), ('Support', 15), ('got', 14), ('masters', 14), ('advice', 14), ('course', 14), ('help', 14), ('international', 13), ('GSS', 13), ('courses', 13), ('Science', 13), ('Bsc', 13), ('Hall', 12), ('entry', 12), ('economics', 12), ('Undergrad', 12), ('graduate', 11), ('admissions', 11), ('Urbanest', 11), ('Mathematics', 11), ('heard', 11)]\n"
     ]
    }
   ],
   "source": [
    "# 50 most common words for the titles of posts\n",
    "import collections \n",
    "all_text_title = ' '.join(df['title'])\n",
    "title_counts = collections.Counter(all_text_title.split())\n",
    "common_titles = title_counts.most_common(50)\n",
    "print(common_titles)"
   ]
  },
  {
   "cell_type": "code",
   "execution_count": 35,
   "id": "d53c27a8",
   "metadata": {},
   "outputs": [
    {
     "name": "stdout",
     "output_type": "stream",
     "text": [
      "[('LSE', 517), ('would', 260), ('Im', 247), ('get', 196), ('year', 183), ('student', 178), ('know', 173), ('anyone', 164), ('Hi', 155), ('offer', 148), ('nan', 148), ('application', 145), ('course', 132), ('like', 129), ('MSc', 128), ('students', 119), ('program', 107), ('I’m', 105), ('Thanks', 103), ('one', 96), ('looking', 93), ('wondering', 92), ('applied', 90), ('got', 89), ('apply', 89), ('want', 87), ('experience', 85), ('need', 84), ('Hello', 81), ('courses', 81), ('degree', 81), ('time', 80), ('help', 80), ('first', 79), ('also', 79), ('currently', 78), ('really', 75), ('still', 74), ('international', 74), ('2', 73), ('school', 73), ('good', 72), ('received', 69), ('much', 68), ('Ive', 66), ('personal', 66), ('Economics', 65), ('people', 65), ('Thank', 65), ('London', 64)]\n"
     ]
    }
   ],
   "source": [
    "# 50 most common words for the content of posts\n",
    "all_text_content = ' '.join(df['content'])\n",
    "content_counts = collections.Counter(all_text_content.split())\n",
    "common_contents = content_counts.most_common(50)\n",
    "print(common_contents)"
   ]
  },
  {
   "cell_type": "code",
   "execution_count": 37,
   "id": "062e18b5",
   "metadata": {},
   "outputs": [
    {
     "name": "stdout",
     "output_type": "stream",
     "text": [
      "[('LSE', 102), ('MSc', 38), ('vs', 21), ('Graduate', 19), ('application', 19), ('offer', 16), ('students', 14), ('accommodation', 13), ('student', 13), ('Political', 11), ('Economics', 11), ('Undergraduate', 11), ('anyone', 11), ('Student', 11), ('Support', 10), ('Masters', 10), ('get', 10), ('undergrad', 9), ('Finance', 9), ('London', 8), ('Summer', 8), ('advice', 8), ('International', 8), ('Science', 8), ('masters', 8), ('GSS', 8), ('Scheme', 8), ('Accommodation', 8), ('first', 8), ('year', 8), ('UK', 8), ('online', 8), ('lse', 8), ('2023', 8), ('Economy', 7), ('Msc', 7), ('Undergrad', 6), ('UCL', 6), ('Help', 6), ('School', 6), ('Sidney', 6), ('Webb', 6), ('waiting', 6), ('help', 6), ('Applying', 6), ('course', 6), ('History', 6), ('group', 6), ('apply', 6), ('BSc', 6)]\n"
     ]
    }
   ],
   "source": [
    "# 50 most common words for the titles of the highest scoring 50 posts \n",
    "highest_scoring = df.sort_values(['score'], ascending = False).groupby('score').head(50)\n",
    "top_text_title = ' '.join(highest_scoring['title'])\n",
    "top_title_counts = collections.Counter(top_text_title.split())\n",
    "top_common_titles = top_title_counts.most_common(50)\n",
    "print(top_common_titles)"
   ]
  },
  {
   "cell_type": "code",
   "execution_count": 39,
   "id": "42fed161",
   "metadata": {},
   "outputs": [
    {
     "name": "stdout",
     "output_type": "stream",
     "text": [
      "[('LSE', 282), ('Im', 135), ('would', 118), ('get', 110), ('year', 98), ('know', 96), ('student', 94), ('Hi', 78), ('like', 77), ('students', 75), ('application', 73), ('anyone', 70), ('MSc', 68), ('offer', 67), ('Thanks', 60), ('nan', 57), ('course', 57), ('I’m', 56), ('program', 50), ('really', 48), ('looking', 48), ('got', 47), ('help', 47), ('one', 47), ('school', 47), ('first', 46), ('want', 44), ('wondering', 43), ('need', 42), ('degree', 42), ('also', 41), ('experience', 41), ('2', 40), ('Hello', 40), ('apply', 40), ('courses', 40), ('much', 39), ('time', 38), ('London', 38), ('international', 37), ('applied', 36), ('still', 35), ('Ive', 35), ('currently', 34), ('university', 34), ('received', 34), ('could', 34), ('good', 34), ('people', 33), ('advice', 33)]\n"
     ]
    }
   ],
   "source": [
    "# 50 most common words for the content of the highest scoring 50 posts\n",
    "top_text_content = ' '.join(highest_scoring['content'])\n",
    "top_content_counts = collections.Counter(top_text_content.split())\n",
    "top_common_contents = top_content_counts.most_common(50)\n",
    "print(top_common_contents)"
   ]
  },
  {
   "cell_type": "code",
   "execution_count": 40,
   "id": "5fa9a404",
   "metadata": {},
   "outputs": [],
   "source": [
    "import pickle\n",
    "\n",
    "# Save the list to a file\n",
    "with open('words.pkl', 'wb') as file:\n",
    "    pickle.dump(common_titles, file)\n",
    "    pickle.dump(common_contents, file)\n",
    "    pickle.dump(top_common_titles, file)\n",
    "    pickle.dump(top_common_contents, file)"
   ]
  },
  {
   "cell_type": "code",
   "execution_count": null,
   "id": "bb8e428c",
   "metadata": {},
   "outputs": [],
   "source": []
  }
 ],
 "metadata": {
  "kernelspec": {
   "display_name": "Python 3 (ipykernel)",
   "language": "python",
   "name": "python3"
  },
  "language_info": {
   "codemirror_mode": {
    "name": "ipython",
    "version": 3
   },
   "file_extension": ".py",
   "mimetype": "text/x-python",
   "name": "python",
   "nbconvert_exporter": "python",
   "pygments_lexer": "ipython3",
   "version": "3.9.12"
  }
 },
 "nbformat": 4,
 "nbformat_minor": 5
}
